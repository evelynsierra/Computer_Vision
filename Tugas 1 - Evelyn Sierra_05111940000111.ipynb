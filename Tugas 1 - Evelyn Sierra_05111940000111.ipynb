{
 "cells": [
  {
   "cell_type": "code",
   "execution_count": 5,
   "id": "e04dc8d2",
   "metadata": {},
   "outputs": [],
   "source": [
    "import tensorflow \n",
    "import keras"
   ]
  },
  {
   "cell_type": "code",
   "execution_count": 8,
   "id": "b17e9741",
   "metadata": {},
   "outputs": [
    {
     "name": "stdout",
     "output_type": "stream",
     "text": [
      "Collecting Pillow\n",
      "  Downloading Pillow-9.2.0-cp39-cp39-win_amd64.whl (3.3 MB)\n",
      "     ---------------------------------------- 3.3/3.3 MB 1.4 MB/s eta 0:00:00\n",
      "Installing collected packages: Pillow\n",
      "Successfully installed Pillow-9.2.0\n"
     ]
    }
   ],
   "source": [
    "!pip install Pillow"
   ]
  },
  {
   "cell_type": "code",
   "execution_count": 10,
   "id": "9c07452b",
   "metadata": {},
   "outputs": [
    {
     "name": "stdout",
     "output_type": "stream",
     "text": [
      "Collecting scikit-image\n",
      "  Downloading scikit_image-0.19.3-cp39-cp39-win_amd64.whl (12.1 MB)\n",
      "     ---------------------------------------- 12.1/12.1 MB 1.7 MB/s eta 0:00:00\n",
      "Collecting tifffile>=2019.7.26\n",
      "  Downloading tifffile-2022.8.12-py3-none-any.whl (208 kB)\n",
      "     ------------------------------------ 208.5/208.5 kB 793.2 kB/s eta 0:00:00\n",
      "Requirement already satisfied: numpy>=1.17.0 in c:\\users\\sierra\\anaconda3\\envs\\python38\\lib\\site-packages (from scikit-image) (1.23.3)\n",
      "Requirement already satisfied: scipy>=1.4.1 in c:\\users\\sierra\\anaconda3\\envs\\python38\\lib\\site-packages (from scikit-image) (1.9.1)\n",
      "Requirement already satisfied: pillow!=7.1.0,!=7.1.1,!=8.3.0,>=6.1.0 in c:\\users\\sierra\\anaconda3\\envs\\python38\\lib\\site-packages (from scikit-image) (9.2.0)\n",
      "Requirement already satisfied: networkx>=2.2 in c:\\users\\sierra\\anaconda3\\envs\\python38\\lib\\site-packages (from scikit-image) (2.8.6)\n",
      "Requirement already satisfied: packaging>=20.0 in c:\\users\\sierra\\anaconda3\\envs\\python38\\lib\\site-packages (from scikit-image) (21.3)\n",
      "Collecting PyWavelets>=1.1.1\n",
      "  Downloading PyWavelets-1.4.1-cp39-cp39-win_amd64.whl (4.2 MB)\n",
      "     ---------------------------------------- 4.2/4.2 MB 997.4 kB/s eta 0:00:00\n",
      "Collecting imageio>=2.4.1\n",
      "  Downloading imageio-2.22.0-py3-none-any.whl (3.4 MB)\n",
      "     ---------------------------------------- 3.4/3.4 MB 1.1 MB/s eta 0:00:00\n",
      "Requirement already satisfied: pyparsing!=3.0.5,>=2.0.2 in c:\\users\\sierra\\anaconda3\\envs\\python38\\lib\\site-packages (from packaging>=20.0->scikit-image) (3.0.9)\n",
      "Installing collected packages: tifffile, PyWavelets, imageio, scikit-image\n",
      "Successfully installed PyWavelets-1.4.1 imageio-2.22.0 scikit-image-0.19.3 tifffile-2022.8.12\n"
     ]
    }
   ],
   "source": [
    "!pip install scikit-image"
   ]
  },
  {
   "cell_type": "code",
   "execution_count": 12,
   "id": "063999ff",
   "metadata": {},
   "outputs": [
    {
     "name": "stdout",
     "output_type": "stream",
     "text": [
      "Collecting opencv-python\n",
      "  Downloading opencv_python-4.6.0.66-cp36-abi3-win_amd64.whl (35.6 MB)\n",
      "     -------------------------------------- 35.6/35.6 MB 941.1 kB/s eta 0:00:00\n",
      "Requirement already satisfied: numpy>=1.14.5 in c:\\users\\sierra\\anaconda3\\envs\\python38\\lib\\site-packages (from opencv-python) (1.23.3)\n",
      "Installing collected packages: opencv-python\n",
      "Successfully installed opencv-python-4.6.0.66\n"
     ]
    }
   ],
   "source": [
    "!pip install opencv-python"
   ]
  },
  {
   "cell_type": "code",
   "execution_count": 14,
   "id": "4ea6fa10",
   "metadata": {},
   "outputs": [
    {
     "name": "stdout",
     "output_type": "stream",
     "text": [
      "Collecting matplotlib\n",
      "  Downloading matplotlib-3.6.0-cp39-cp39-win_amd64.whl (7.2 MB)\n",
      "     ---------------------------------------- 7.2/7.2 MB 328.2 kB/s eta 0:00:00\n",
      "Requirement already satisfied: numpy>=1.19 in c:\\users\\sierra\\anaconda3\\envs\\python38\\lib\\site-packages (from matplotlib) (1.23.3)\n",
      "Requirement already satisfied: packaging>=20.0 in c:\\users\\sierra\\anaconda3\\envs\\python38\\lib\\site-packages (from matplotlib) (21.3)\n",
      "Requirement already satisfied: pillow>=6.2.0 in c:\\users\\sierra\\anaconda3\\envs\\python38\\lib\\site-packages (from matplotlib) (9.2.0)\n",
      "Collecting fonttools>=4.22.0\n",
      "  Downloading fonttools-4.37.4-py3-none-any.whl (960 kB)\n",
      "     ------------------------------------ 960.8/960.8 kB 868.9 kB/s eta 0:00:00\n",
      "Requirement already satisfied: pyparsing>=2.2.1 in c:\\users\\sierra\\anaconda3\\envs\\python38\\lib\\site-packages (from matplotlib) (3.0.9)\n",
      "Collecting contourpy>=1.0.1\n",
      "  Downloading contourpy-1.0.5-cp39-cp39-win_amd64.whl (161 kB)\n",
      "     -------------------------------------- 162.0/162.0 kB 1.4 MB/s eta 0:00:00\n",
      "Collecting kiwisolver>=1.0.1\n",
      "  Downloading kiwisolver-1.4.4-cp39-cp39-win_amd64.whl (55 kB)\n",
      "     ---------------------------------------- 55.4/55.4 kB 2.8 MB/s eta 0:00:00\n",
      "Collecting cycler>=0.10\n",
      "  Downloading cycler-0.11.0-py3-none-any.whl (6.4 kB)\n",
      "Requirement already satisfied: python-dateutil>=2.7 in c:\\users\\sierra\\anaconda3\\envs\\python38\\lib\\site-packages (from matplotlib) (2.8.2)\n",
      "Requirement already satisfied: six>=1.5 in c:\\users\\sierra\\anaconda3\\envs\\python38\\lib\\site-packages (from python-dateutil>=2.7->matplotlib) (1.16.0)\n",
      "Installing collected packages: kiwisolver, fonttools, cycler, contourpy, matplotlib\n",
      "Successfully installed contourpy-1.0.5 cycler-0.11.0 fonttools-4.37.4 kiwisolver-1.4.4 matplotlib-3.6.0\n"
     ]
    }
   ],
   "source": [
    "!pip install matplotlib"
   ]
  },
  {
   "cell_type": "code",
   "execution_count": 15,
   "id": "ac07f39f",
   "metadata": {},
   "outputs": [],
   "source": [
    "from keras.preprocessing import image\n",
    "#from keras.preprocessing.image import img_to_array\n",
    "from tensorflow.keras.utils import img_to_array\n",
    "from keras.preprocessing.image import ImageDataGenerator\n",
    "\n",
    "from PIL import Image, ImageEnhance\n",
    "\n",
    "import os\n",
    "import numpy as np\n",
    "import random\n",
    "\n",
    "from skimage import io \n",
    "import cv2 as cv\n",
    "import matplotlib.pyplot as plt"
   ]
  },
  {
   "cell_type": "code",
   "execution_count": 66,
   "id": "7317278f",
   "metadata": {},
   "outputs": [],
   "source": [
    "import glob"
   ]
  },
  {
   "cell_type": "code",
   "execution_count": 67,
   "id": "ec9e3f60",
   "metadata": {},
   "outputs": [],
   "source": [
    "folder = 'Pictures'"
   ]
  },
  {
   "cell_type": "code",
   "execution_count": 68,
   "id": "4d1c43ee",
   "metadata": {},
   "outputs": [],
   "source": [
    "all_image = []\n",
    "for img_path in os.listdir(folder):\n",
    "    image = os.path.join(folder,img_path)\n",
    "    image = cv.imread(image, 0)\n",
    "    #image = cv.cvtColor(image, cv.COLOR_BGR2GRAY)\n",
    "    all_image.append(image)"
   ]
  },
  {
   "cell_type": "code",
   "execution_count": 80,
   "id": "7f2b96db",
   "metadata": {},
   "outputs": [
    {
     "ename": "error",
     "evalue": "OpenCV(4.6.0) D:\\a\\opencv-python\\opencv-python\\opencv\\modules\\imgproc\\src\\color.cpp:182: error: (-215:Assertion failed) !_src.empty() in function 'cv::cvtColor'\n",
     "output_type": "error",
     "traceback": [
      "\u001b[1;31m---------------------------------------------------------------------------\u001b[0m",
      "\u001b[1;31merror\u001b[0m                                     Traceback (most recent call last)",
      "Input \u001b[1;32mIn [80]\u001b[0m, in \u001b[0;36m<cell line: 5>\u001b[1;34m()\u001b[0m\n\u001b[0;32m      6\u001b[0m \u001b[38;5;28;01mif\u001b[39;00m file\u001b[38;5;241m.\u001b[39mendswith((\u001b[38;5;124m\"\u001b[39m\u001b[38;5;124m.jpg\u001b[39m\u001b[38;5;124m\"\u001b[39m)): \u001b[38;5;66;03m# you can add formats\u001b[39;00m\n\u001b[0;32m      7\u001b[0m     img \u001b[38;5;241m=\u001b[39m cv\u001b[38;5;241m.\u001b[39mimread(file)\n\u001b[1;32m----> 8\u001b[0m     GS \u001b[38;5;241m=\u001b[39m \u001b[43mcv\u001b[49m\u001b[38;5;241;43m.\u001b[39;49m\u001b[43mcvtColor\u001b[49m\u001b[43m(\u001b[49m\u001b[43mimg\u001b[49m\u001b[43m,\u001b[49m\u001b[43m \u001b[49m\u001b[43mcv\u001b[49m\u001b[38;5;241;43m.\u001b[39;49m\u001b[43mCOLOR_BGR2GRAY\u001b[49m\u001b[43m)\u001b[49m\n\u001b[0;32m      9\u001b[0m     th, Gray \u001b[38;5;241m=\u001b[39m cv\u001b[38;5;241m.\u001b[39mthreshold(GS, \u001b[38;5;241m128\u001b[39m, \u001b[38;5;241m192\u001b[39m, cv\u001b[38;5;241m.\u001b[39mTHRESH_OTSU)\n\u001b[0;32m     10\u001b[0m     cv\u001b[38;5;241m.\u001b[39mimwrite(\u001b[38;5;124m\"\u001b[39m\u001b[38;5;124mconverted-\u001b[39m\u001b[38;5;124m\"\u001b[39m\u001b[38;5;241m+\u001b[39mfile,Gray)\n",
      "\u001b[1;31merror\u001b[0m: OpenCV(4.6.0) D:\\a\\opencv-python\\opencv-python\\opencv\\modules\\imgproc\\src\\color.cpp:182: error: (-215:Assertion failed) !_src.empty() in function 'cv::cvtColor'\n"
     ]
    }
   ],
   "source": [
    "import numpy as np\n",
    "import cv2 as cv\n",
    "import os\n",
    "\n",
    "for file in os.listdir(\"C:\\\\Users\\\\Sierra\\\\College\\\\SEMESTER7\\\\VISKOM\\\\Tugas1\\\\Pictures\"): # images folder path\n",
    "    if file.endswith((\".jpg\")): # you can add formats\n",
    "        img = cv.imread(file)\n",
    "        GS = cv.cvtColor(img, cv.COLOR_BGR2GRAY)\n",
    "        th, Gray = cv.threshold(GS, 128, 192, cv.THRESH_OTSU)\n",
    "        cv.imwrite(\"converted-\"+file,Gray)"
   ]
  },
  {
   "cell_type": "code",
   "execution_count": 75,
   "id": "8564fdf0",
   "metadata": {},
   "outputs": [
    {
     "ename": "NameError",
     "evalue": "name 'plt_image' is not defined",
     "output_type": "error",
     "traceback": [
      "\u001b[1;31m---------------------------------------------------------------------------\u001b[0m",
      "\u001b[1;31mNameError\u001b[0m                                 Traceback (most recent call last)",
      "Input \u001b[1;32mIn [75]\u001b[0m, in \u001b[0;36m<cell line: 1>\u001b[1;34m()\u001b[0m\n\u001b[1;32m----> 1\u001b[0m \u001b[43mplt_image\u001b[49m(all_image)\n",
      "\u001b[1;31mNameError\u001b[0m: name 'plt_image' is not defined"
     ]
    }
   ],
   "source": [
    "plt_image(all_image)"
   ]
  },
  {
   "cell_type": "code",
   "execution_count": 49,
   "id": "e3d36ee8",
   "metadata": {},
   "outputs": [
    {
     "name": "stdout",
     "output_type": "stream",
     "text": [
      "None\n"
     ]
    }
   ],
   "source": [
    "plt.imshow(grayimg,cmap='gray') #cmap has been used as matplotlib uses some default colormap to plot grayscale images\n",
    "plt.xticks([]) #To get rid of the x-ticks and y-ticks on the image axis\n",
    "plt.yticks([])\n",
    "print('New Image Shape',grayimg.shape)"
   ]
  },
  {
   "cell_type": "code",
   "execution_count": null,
   "id": "d92ec4dc",
   "metadata": {},
   "outputs": [],
   "source": []
  }
 ],
 "metadata": {
  "kernelspec": {
   "display_name": "Python 3 (ipykernel)",
   "language": "python",
   "name": "python3"
  },
  "language_info": {
   "codemirror_mode": {
    "name": "ipython",
    "version": 3
   },
   "file_extension": ".py",
   "mimetype": "text/x-python",
   "name": "python",
   "nbconvert_exporter": "python",
   "pygments_lexer": "ipython3",
   "version": "3.9.13"
  }
 },
 "nbformat": 4,
 "nbformat_minor": 5
}
